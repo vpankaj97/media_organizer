{
 "cells": [
  {
   "cell_type": "code",
   "execution_count": 46,
   "metadata": {},
   "outputs": [],
   "source": [
    "from PIL import Image, ExifTags\n",
    "import os\n",
    "import datetime"
   ]
  },
  {
   "cell_type": "code",
   "execution_count": 47,
   "metadata": {},
   "outputs": [],
   "source": [
    "file_path = r\"D:\\test\\test.jpg\""
   ]
  },
  {
   "cell_type": "code",
   "execution_count": 62,
   "metadata": {},
   "outputs": [],
   "source": [
    "def get_minimum_date(file_path):\n",
    "    try:\n",
    "        new_filename = \"\"\n",
    "        stat = os.stat(file_path)\n",
    "        creation_time = stat.st_ctime\n",
    "        access_time = stat.st_atime\n",
    "        modified_time = stat.st_mtime\n",
    "        dt = datetime.datetime.fromtimestamp(\n",
    "            min(creation_time, access_time, modified_time)).date()\n",
    "        # print(dt)\n",
    "\n",
    "        try:\n",
    "\n",
    "            img = Image.open(file_path)\n",
    "            img_exif = img.getexif()\n",
    "\n",
    "            for key, val in img_exif.items():\n",
    "                if key == 306:\n",
    "                    dt = val[:10]\n",
    "                    new_filename = f\"\"\"{dt.replace(':', '')[:4]}-{file_path}\"\"\"\n",
    "                    dt = datetime.datetime.strptime(dt, '%Y:%m:%d')\n",
    "                    \n",
    "                    dt = dt.date()\n",
    "                    # print(dt)\n",
    "\n",
    "                    \n",
    "                    break\n",
    "\n",
    "            return dt, new_filename\n",
    "\n",
    "        except Exception as err:\n",
    "            print(err)\n",
    "            return datetime.datetime.fromtimestamp(min(creation_time, access_time, modified_time)).date()\n",
    "\n",
    "    except OSError as e:\n",
    "        print(f\"Error getting minimum date for {file_path}: {e}\")\n",
    "        return None"
   ]
  },
  {
   "cell_type": "code",
   "execution_count": 63,
   "metadata": {},
   "outputs": [
    {
     "data": {
      "text/plain": [
       "(datetime.date(2011, 1, 1), '2011-D:\\\\test\\\\test.jpg')"
      ]
     },
     "execution_count": 63,
     "metadata": {},
     "output_type": "execute_result"
    }
   ],
   "source": [
    "get_minimum_date(file_path)"
   ]
  },
  {
   "cell_type": "code",
   "execution_count": null,
   "metadata": {},
   "outputs": [],
   "source": []
  }
 ],
 "metadata": {
  "kernelspec": {
   "display_name": "Python 3",
   "language": "python",
   "name": "python3"
  },
  "language_info": {
   "codemirror_mode": {
    "name": "ipython",
    "version": 3
   },
   "file_extension": ".py",
   "mimetype": "text/x-python",
   "name": "python",
   "nbconvert_exporter": "python",
   "pygments_lexer": "ipython3",
   "version": "3.11.4"
  },
  "orig_nbformat": 4
 },
 "nbformat": 4,
 "nbformat_minor": 2
}
