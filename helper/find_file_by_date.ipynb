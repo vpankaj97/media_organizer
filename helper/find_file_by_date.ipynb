{
 "cells": [
  {
   "cell_type": "code",
   "execution_count": 105,
   "metadata": {},
   "outputs": [],
   "source": [
    "import os\n",
    "import shutil\n",
    "import datetime\n",
    "from PIL import Image, ExifTags"
   ]
  },
  {
   "cell_type": "code",
   "execution_count": 106,
   "metadata": {},
   "outputs": [],
   "source": [
    "def get_minimum_date(file_path):\n",
    "    try:\n",
    "        stat = os.stat(file_path)\n",
    "        creation_time = stat.st_ctime\n",
    "        access_time = stat.st_atime\n",
    "        modified_time = stat.st_mtime\n",
    "        dt = datetime.datetime.fromtimestamp(min(creation_time, access_time, modified_time)).date()\n",
    "\n",
    "        # print(dt)\n",
    "\n",
    "        try:\n",
    "\n",
    "            img = Image.open(file_path)\n",
    "            img_exif = img.getexif()\n",
    "   \n",
    "            for key, val in img_exif.items():\n",
    "                if key == 306:\n",
    "                    dt = val[:10]\n",
    "                    dt = datetime.datetime.strptime(dt,'%Y:%m:%d').date()\n",
    "                    # print(dt)\n",
    "                    break\n",
    "            \n",
    "            return dt\n",
    "    \n",
    "        except Exception as err:\n",
    "            return datetime.datetime.fromtimestamp(min(creation_time, access_time, modified_time)).date()\n",
    "\n",
    "    except OSError as e:\n",
    "        print(f\"Error getting minimum date for {file_path}: {e}\")\n",
    "        return None\n"
   ]
  },
  {
   "cell_type": "code",
   "execution_count": 107,
   "metadata": {},
   "outputs": [],
   "source": [
    "def find_file_by_date(root_directory,date_to_check):\n",
    "    for root, _, files in os.walk(root_directory):\n",
    "        for filename in files:\n",
    "\n",
    "            print(f\"Looking at file: {filename}\")\n",
    "            file_path = os.path.join(root, filename)\n",
    "            minimum_date = get_minimum_date(file_path)\n",
    "\n",
    "            print(minimum_date)\n",
    "            \n",
    "            # source_dir = os.path.dirname(file_path)\n",
    "\n",
    "            if minimum_date == date_to_check:\n",
    "                if not os.path.exists(os.path.join(root,folder)):\n",
    "                    os.mkdir(os.path.join(root,folder))\n",
    "\n",
    "                destination_folder = os.path.join(root,folder)\n",
    "                    \n",
    "                # shutil.move(file_path, os.path.join(destination_folder, filename))"
   ]
  },
  {
   "cell_type": "code",
   "execution_count": 108,
   "metadata": {},
   "outputs": [],
   "source": [
    "dates = '2023-03-06'\n",
    "date_to_check = datetime.datetime.strptime(dates,'%Y-%m-%d').date()\n",
    "folder = 'Group Meetv2'\n",
    "root_path = r'E:\\Images\\Rishu\\Camera\\test'\n",
    "categories = [\"Images\", \"Videos\", \"Live Photos\"]"
   ]
  },
  {
   "cell_type": "code",
   "execution_count": 109,
   "metadata": {},
   "outputs": [
    {
     "name": "stdout",
     "output_type": "stream",
     "text": [
      "Looking at file: IMG_3089.JPG\n",
      "2023-01-23\n",
      "Looking at file: 20201030_165914.jpg\n",
      "2020-10-30\n"
     ]
    }
   ],
   "source": [
    "for category in categories:\n",
    "    find_file_by_date(os.path.join(root_path,category),date_to_check)"
   ]
  },
  {
   "cell_type": "code",
   "execution_count": null,
   "metadata": {},
   "outputs": [],
   "source": []
  },
  {
   "cell_type": "code",
   "execution_count": null,
   "metadata": {},
   "outputs": [],
   "source": []
  }
 ],
 "metadata": {
  "kernelspec": {
   "display_name": "Python 3",
   "language": "python",
   "name": "python3"
  },
  "language_info": {
   "codemirror_mode": {
    "name": "ipython",
    "version": 3
   },
   "file_extension": ".py",
   "mimetype": "text/x-python",
   "name": "python",
   "nbconvert_exporter": "python",
   "pygments_lexer": "ipython3",
   "version": "3.11.4"
  },
  "orig_nbformat": 4
 },
 "nbformat": 4,
 "nbformat_minor": 2
}
