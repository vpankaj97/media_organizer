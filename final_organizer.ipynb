{
 "cells": [
  {
   "cell_type": "markdown",
   "metadata": {},
   "source": [
    "# Better way to do this"
   ]
  },
  {
   "cell_type": "code",
   "execution_count": 1,
   "metadata": {},
   "outputs": [],
   "source": [
    "import os\n",
    "import shutil\n",
    "import datetime\n",
    "import concurrent.futures"
   ]
  },
  {
   "cell_type": "code",
   "execution_count": 2,
   "metadata": {},
   "outputs": [],
   "source": [
    "IMAGE_EXTENSIONS = (\".jpg\", \".jpeg\", \".heic\")\n",
    "VIDEO_EXTENSIONS = (\".mp4\", \".avi\", \".mkv\", \".mov\", \".wmv\")"
   ]
  },
  {
   "cell_type": "code",
   "execution_count": 3,
   "metadata": {},
   "outputs": [],
   "source": [
    "def get_minimum_date(file_path):\n",
    "    try:\n",
    "        stat = os.stat(file_path)\n",
    "        creation_time = stat.st_ctime\n",
    "        access_time = stat.st_atime\n",
    "        modified_time = stat.st_mtime\n",
    "\n",
    "        return datetime.datetime.fromtimestamp(min(creation_time, access_time, modified_time)).date()\n",
    "\n",
    "    except OSError as e:\n",
    "        print(f\"Error getting minimum date for {file_path}: {e}\")\n",
    "        return None\n"
   ]
  },
  {
   "cell_type": "code",
   "execution_count": 4,
   "metadata": {},
   "outputs": [],
   "source": [
    "def move_and_categorize(file_path, folder_path):\n",
    "    _, ext = os.path.splitext(file_path)\n",
    "\n",
    "    if ext.lower() in IMAGE_EXTENSIONS:\n",
    "        media_type_folder = os.path.join(folder_path, \"Images\")\n",
    "    elif ext.lower() in VIDEO_EXTENSIONS:\n",
    "        media_type_folder = os.path.join(folder_path, \"Videos\")\n",
    "    else:\n",
    "        media_type_folder = os.path.join(folder_path, \"Others\")\n",
    "\n",
    "    if not os.path.exists(media_type_folder):\n",
    "        os.mkdir(media_type_folder)\n",
    "\n",
    "    shutil.move(file_path, os.path.join(media_type_folder, os.path.basename(file_path)))\n"
   ]
  },
  {
   "cell_type": "code",
   "execution_count": 5,
   "metadata": {},
   "outputs": [],
   "source": [
    "def handle_live_photos(folder_path):\n",
    "    images_folder = os.path.join(folder_path, \"Images\")\n",
    "    videos_folder = os.path.join(folder_path, \"Videos\")\n",
    "    live_photos_folder = os.path.join(folder_path, \"Live Photos\")\n",
    "\n",
    "    for image_file in os.listdir(images_folder):\n",
    "        if os.path.splitext(image_file)[0] + \".MOV\" in os.listdir(videos_folder):\n",
    "            image_path = os.path.join(images_folder, image_file)\n",
    "            video_path = os.path.join(videos_folder, os.path.splitext(image_file)[0] + \".MOV\")\n",
    "\n",
    "            if not os.path.exists(live_photos_folder):\n",
    "                os.mkdir(live_photos_folder)\n",
    "\n",
    "            shutil.move(image_path, os.path.join(live_photos_folder, image_file))\n",
    "            shutil.move(video_path, os.path.join(live_photos_folder, os.path.basename(video_path)))\n"
   ]
  },
  {
   "cell_type": "code",
   "execution_count": 6,
   "metadata": {},
   "outputs": [],
   "source": [
    "def organize_files_by_date(root_directory):\n",
    "\n",
    "    #Move files into Categories\n",
    "    with concurrent.futures.ThreadPoolExecutor() as executor:\n",
    "        futures = []\n",
    "        for root, _, files in os.walk(root_directory):\n",
    "            for filename in files:\n",
    "                file_path = os.path.join(root, filename)\n",
    "                minimum_date = get_minimum_date(file_path)\n",
    "                if minimum_date is not None:\n",
    "                    year_folder = os.path.join(root_directory, str(minimum_date.year))\n",
    "\n",
    "                    if not os.path.exists(year_folder):\n",
    "                        os.mkdir(year_folder)\n",
    "\n",
    "                    futures.append(executor.submit(move_and_categorize, file_path, year_folder))\n",
    "\n",
    "        for future in concurrent.futures.as_completed(futures):\n",
    "            try:\n",
    "                future.result()\n",
    "            except Exception as e:\n",
    "                print(f\"Error moving and categorizing file: {e}\")\n",
    "\n",
    "    # Handle Live Photos\n",
    "    for root, dirs, _ in os.walk(root_directory):\n",
    "        for dir_name in dirs:\n",
    "            folder_path = os.path.join(root_directory, dir_name)\n",
    "            try:\n",
    "\n",
    "                handle_live_photos(folder_path)\n",
    "            except Exception:\n",
    "                pass\n"
   ]
  },
  {
   "cell_type": "code",
   "execution_count": 56,
   "metadata": {},
   "outputs": [],
   "source": [
    "def create_category_folders(root_dir):\n",
    "    image_extensions = [\".jpg\", \".jpeg\", \".heic\"]\n",
    "    video_extensions = [\".mp4\", \".avi\", \".mov\", \".mkv\", \".wmv\"]\n",
    "\n",
    "    for dirpath, _, filenames in os.walk(root_dir):\n",
    "        for filename in filenames:\n",
    "            file_path = os.path.join(dirpath, filename)\n",
    "\n",
    "            if any(file_path.lower().endswith(ext) for ext in image_extensions):\n",
    "                category_folder = \"Images\"\n",
    "            elif any(file_path.lower().endswith(ext) for ext in video_extensions):\n",
    "                category_folder = \"Videos\"\n",
    "            else:\n",
    "                category_folder = \"Unknown\"\n",
    "\n",
    "            source_dir = os.path.dirname(file_path)\n",
    "\n",
    "            if os.path.basename(os.path.abspath(source_dir)) in ['Images','Videos','Unknown']:\n",
    "                # print(\"Skipped!!\")\n",
    "                continue\n",
    "            \n",
    "            destination_dir = os.path.join(source_dir, category_folder)\n",
    "\n",
    "            # Create the category folder if it doesn't exist\n",
    "            if not os.path.exists(destination_dir):\n",
    "                os.makedirs(destination_dir)\n",
    "\n",
    "            # Move the file to the category folder\n",
    "            shutil.move(file_path, os.path.join(destination_dir, filename))"
   ]
  },
  {
   "cell_type": "code",
   "execution_count": 61,
   "metadata": {},
   "outputs": [],
   "source": [
    "basic_organize = False\n",
    "root_directory = r\"E:\\Images\\Family\\Diwali\\Videos\""
   ]
  },
  {
   "cell_type": "code",
   "execution_count": 62,
   "metadata": {},
   "outputs": [],
   "source": [
    "if not basic_organize:\n",
    "    organize_files_by_date(root_directory) # Only for Camera - where we want to organize by date\n",
    "else:\n",
    "    create_category_folders(root_directory) # for normal organizing\n",
    "\n",
    "\n",
    "# Delete empty directories\n",
    "import subprocess\n",
    "\n",
    "try:\n",
    "    cmd = f'ROBOCOPY {root_directory} {root_directory} /S /MOVE'\n",
    "    result = subprocess.run(cmd, shell=True, capture_output=True, text=True, check=True)\n",
    "\n",
    "except subprocess.CalledProcessError as e:\n",
    "    #print(f\"Error: {e}\")\n",
    "    pass\n"
   ]
  }
 ],
 "metadata": {
  "kernelspec": {
   "display_name": "Python 3",
   "language": "python",
   "name": "python3"
  },
  "language_info": {
   "codemirror_mode": {
    "name": "ipython",
    "version": 3
   },
   "file_extension": ".py",
   "mimetype": "text/x-python",
   "name": "python",
   "nbconvert_exporter": "python",
   "pygments_lexer": "ipython3",
   "version": "3.11.4"
  },
  "orig_nbformat": 4
 },
 "nbformat": 4,
 "nbformat_minor": 2
}
