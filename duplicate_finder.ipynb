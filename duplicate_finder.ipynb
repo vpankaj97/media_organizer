{
 "cells": [
  {
   "cell_type": "code",
   "execution_count": null,
   "metadata": {},
   "outputs": [],
   "source": [
    "import os\n",
    "import hashlib\n",
    "from multiprocessing import Pool\n"
   ]
  },
  {
   "cell_type": "code",
   "execution_count": null,
   "metadata": {},
   "outputs": [],
   "source": [
    "\n",
    "def file_hash(filepath):\n",
    "    with open(filepath, 'rb') as f:\n",
    "        return hashlib.md5(f.read()).hexdigest()\n"
   ]
  },
  {
   "cell_type": "code",
   "execution_count": null,
   "metadata": {},
   "outputs": [],
   "source": [
    "\n",
    "def find_duplicates(root_folder, num_processes=4):\n",
    "    pool = Pool(processes=num_processes)\n",
    "    file_list = []\n",
    "    for dirpath, dirnames, filenames in os.walk(root_folder):\n",
    "        for filename in filenames:\n",
    "            file_list.append(os.path.join(dirpath, filename))\n",
    "    results = pool.map(file_hash, file_list)\n",
    "    pool.close()\n",
    "    pool.join()\n",
    "    hash_dict = {}\n",
    "    for i, filehash in enumerate(results):\n",
    "        if filehash not in hash_dict:\n",
    "            hash_dict[filehash] = []\n",
    "        hash_dict[filehash].append(file_list[i])\n",
    "    duplicates = [val for key, val in hash_dict.items() if len(val) > 1]\n",
    "    return duplicates\n"
   ]
  },
  {
   "cell_type": "code",
   "execution_count": null,
   "metadata": {},
   "outputs": [],
   "source": [
    "root_folder = '/path/to/root/folder'\n",
    "duplicates = find_duplicates(root_folder)\n",
    "for duplicate_set in duplicates:\n",
    "    print('Duplicate set:')\n",
    "    for filename in duplicate_set:\n",
    "        print(f'\\t{filename}')\n"
   ]
  }
 ],
 "metadata": {
  "kernelspec": {
   "display_name": "Python 3",
   "language": "python",
   "name": "python3"
  },
  "language_info": {
   "name": "python",
   "version": "3.11.4"
  },
  "orig_nbformat": 4
 },
 "nbformat": 4,
 "nbformat_minor": 2
}
